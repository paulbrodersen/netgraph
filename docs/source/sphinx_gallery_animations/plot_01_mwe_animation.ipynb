{
  "cells": [
    {
      "cell_type": "code",
      "execution_count": null,
      "metadata": {
        "collapsed": false
      },
      "outputs": [],
      "source": [
        "%matplotlib inline"
      ]
    },
    {
      "cell_type": "markdown",
      "metadata": {},
      "source": [
        "\n# Changes in Connectivity\n\nThe simplest way to visualise changes in connectivity is to reveal or\nhide nodes and edges as they are added or removed from the\nnetwork. Here we show how to manipulate the visibility of node and\nedge artists to that effect.\n"
      ]
    },
    {
      "cell_type": "code",
      "execution_count": null,
      "metadata": {
        "collapsed": false
      },
      "outputs": [],
      "source": [
        "import numpy as np\nimport matplotlib.pyplot as plt\n\nfrom matplotlib.animation import FuncAnimation\nfrom netgraph import Graph\n\n# The house-X graph.\nedges = [\n    (0, 1),\n    (1, 4),\n    (4, 2),\n    (2, 3),\n    (3, 4),\n    (4, 0),\n    (0, 2),\n    (2, 1),\n]\n\nnode_layout = {\n    0 : (0, 0),\n    1 : (1, 0),\n    2 : (1, 1),\n    3 : (0.5, 1.5),\n    4 : (0, 1),\n}\n\n# Initialize the drawing.\nfig, ax = plt.subplots()\ng = Graph(edges, node_layout=node_layout, ax=ax)\n\n# In this example, we show one additional edge on each iteration/frame.\nedge_visibility = {\n    (0, 1) : [False, True, True, True, True, True, True, True, True],\n    (1, 4) : [False, False, True, True, True, True, True, True, True],\n    (4, 2) : [False, False, False, True, True, True, True, True, True],\n    (2, 3) : [False, False, False, False, True, True, True, True, True],\n    (3, 4) : [False, False, False, False, False, True, True, True, True],\n    (4, 0) : [False, False, False, False, False, False, True, True, True],\n    (0, 2) : [False, False, False, False, False, False, False, True, True],\n    (2, 1) : [False, False, False, False, False, False, False, False, True],\n}\n\n# We only show nodes that are part of at least one visible edge.\nnode_visibility = {\n    0 : [False, True, True, True, True, True, True, True, True],\n    1 : [False, True, True, True, True, True, True, True, True],\n    2 : [False, False, False, True, True, True, True, True, True],\n    3 : [False, False, False, False, True, True, True, True, True],\n    4 : [False, False, True, True, True, True, True, True, True],\n}\n\ndef update(ii):\n    stale_artists = []\n\n    for edge, artist in g.edge_artists.items():\n        artist.set_visible(edge_visibility[edge][ii])\n        stale_artists.append(artist)\n\n    for node, artist in g.node_artists.items():\n        artist.set_visible(node_visibility[node][ii])\n        stale_artists.append(artist)\n\n    return stale_artists\n\nanimation = FuncAnimation(fig, update, frames=len(edges)+1, interval=200, blit=True)"
      ]
    }
  ],
  "metadata": {
    "kernelspec": {
      "display_name": "Python 3",
      "language": "python",
      "name": "python3"
    },
    "language_info": {
      "codemirror_mode": {
        "name": "ipython",
        "version": 3
      },
      "file_extension": ".py",
      "mimetype": "text/x-python",
      "name": "python",
      "nbconvert_exporter": "python",
      "pygments_lexer": "ipython3",
      "version": "3.9.16"
    }
  },
  "nbformat": 4,
  "nbformat_minor": 0
}