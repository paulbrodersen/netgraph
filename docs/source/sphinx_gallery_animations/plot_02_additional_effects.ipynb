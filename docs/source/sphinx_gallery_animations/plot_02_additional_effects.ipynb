{
  "cells": [
    {
      "cell_type": "code",
      "execution_count": null,
      "metadata": {
        "collapsed": false
      },
      "outputs": [],
      "source": [
        "%matplotlib inline"
      ]
    },
    {
      "cell_type": "markdown",
      "metadata": {},
      "source": [
        "\n# Changes in Node and Edge Properties\n\nHere we show how to manipulate the color, transparency, and extent of node and\nedge artists to visualize changes in node and edge properties.\n"
      ]
    },
    {
      "cell_type": "code",
      "execution_count": null,
      "metadata": {
        "collapsed": false
      },
      "outputs": [],
      "source": [
        "import numpy as np\nimport matplotlib.pyplot as plt\n\nfrom matplotlib.animation import FuncAnimation\nfrom netgraph import Graph, BASE_SCALE\n\n# The house-X graph.\nedges = [\n    (0, 1),\n    (1, 4),\n    (4, 2),\n    (2, 3),\n    (3, 4),\n    (4, 0),\n    (0, 2),\n    (2, 1),\n]\nnode_layout = {\n    0 : (0, 0),\n    1 : (1, 0),\n    2 : (1, 1),\n    3 : (0.5, 1.5),\n    4 : (0, 1),\n}\n\n# Initialize the drawing.\nfig, ax = plt.subplots()\ng = Graph(edges, node_layout=node_layout, ax=ax)\n\n# On each iteration, we increase the emphasis of one additional edge\n# by making it wider, darker, and making it less transparent.\n# Nodes that are part of an emphasized edge undergo the same treatment.\nedge_emphasis = {\n    (0, 1) : [False, True, True, True, True, True, True, True, True],\n    (1, 4) : [False, False, True, True, True, True, True, True, True],\n    (4, 2) : [False, False, False, True, True, True, True, True, True],\n    (2, 3) : [False, False, False, False, True, True, True, True, True],\n    (3, 4) : [False, False, False, False, False, True, True, True, True],\n    (4, 0) : [False, False, False, False, False, False, True, True, True],\n    (0, 2) : [False, False, False, False, False, False, False, True, True],\n    (2, 1) : [False, False, False, False, False, False, False, False, True],\n}\nedge_color = {edge : [\"midnightblue\" if emphasis else \"lightblue\" for emphasis in values] for edge, values in edge_emphasis.items()}\nedge_alpha = {edge : [1.0 if emphasis else 0.5 for emphasis in values] for edge, values in edge_emphasis.items()}\nedge_width = {edge : [1.5 if emphasis else 0.5 for emphasis in values] for edge, values in edge_emphasis.items()}\n\nnode_emphasis = {\n    0 : [False, True, True, True, True, True, True, True, True],\n    1 : [False, True, True, True, True, True, True, True, True],\n    2 : [False, False, False, True, True, True, True, True, True],\n    3 : [False, False, False, False, True, True, True, True, True],\n    4 : [False, False, True, True, True, True, True, True, True],\n}\nnode_color = {node : [\"midnightblue\" if emphasis else \"lightblue\" for emphasis in values] for node, values in node_emphasis.items()}\nnode_alpha = {node : [1.0 if emphasis else 0.5 for emphasis in values] for node, values in node_emphasis.items()}\nnode_size  = {node : [2.0 if emphasis else 1.0 for emphasis in values] for node, values in node_emphasis.items()}\n\ndef update(ii):\n    stale_artists = []\n\n    for edge, artist in g.edge_artists.items():\n        artist.set_color(edge_color[edge][ii])\n        artist.set_alpha(edge_alpha[edge][ii])\n        # Normally, netgraph re-scales edge widths internally by BASE_SCALE to ensure\n        # that \"typical\" edge widths look comparable in netgraph, networkx, and igraph.\n        # As we are manipulating the edge artist directly, we have to do the same here.\n        artist.update_width(edge_width[edge][ii] * BASE_SCALE)\n        stale_artists.append(artist)\n\n    for node, artist in g.node_artists.items():\n        artist.set_color(node_color[node][ii])\n        artist.set_alpha(node_alpha[node][ii])\n        # Ditto for node sizes.\n        artist.size = node_size[node][ii] * BASE_SCALE\n        stale_artists.append(artist)\n\n    return stale_artists\n\nanimation = FuncAnimation(fig, update, frames=len(edges)+1, interval=200, blit=True)"
      ]
    }
  ],
  "metadata": {
    "kernelspec": {
      "display_name": "Python 3",
      "language": "python",
      "name": "python3"
    },
    "language_info": {
      "codemirror_mode": {
        "name": "ipython",
        "version": 3
      },
      "file_extension": ".py",
      "mimetype": "text/x-python",
      "name": "python",
      "nbconvert_exporter": "python",
      "pygments_lexer": "ipython3",
      "version": "3.9.16"
    }
  },
  "nbformat": 4,
  "nbformat_minor": 0
}