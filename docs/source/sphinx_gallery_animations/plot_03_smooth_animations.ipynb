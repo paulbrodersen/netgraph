{
  "cells": [
    {
      "cell_type": "code",
      "execution_count": null,
      "metadata": {
        "collapsed": false
      },
      "outputs": [],
      "source": [
        "%matplotlib inline"
      ]
    },
    {
      "cell_type": "markdown",
      "metadata": {},
      "source": [
        "\n# Smooth Animations\n\nFor dynamic networks, the available data is often quite granular, and the large\ndifferences between successive network states can result in janky animations.\nHere we show how to interpolate between network states to obtain a smoother\npresentation of the data.\n"
      ]
    },
    {
      "cell_type": "code",
      "execution_count": null,
      "metadata": {
        "collapsed": false
      },
      "outputs": [],
      "source": [
        "import numpy as np\nimport matplotlib.pyplot as plt\n\nfrom matplotlib.colors import TwoSlopeNorm\nfrom matplotlib.animation import FuncAnimation\nfrom netgraph import Graph, BASE_SCALE\n\n# The house-X graph.\nedges = [\n    (0, 1),\n    (1, 4),\n    (4, 2),\n    (2, 3),\n    (3, 4),\n    (4, 0),\n    (0, 2),\n    (2, 1),\n]\n\nnode_layout = {\n    0 : (0, 0),\n    1 : (1, 0),\n    2 : (1, 1),\n    3 : (0.5, 1.5),\n    4 : (0, 1),\n}\n\n# Initialize the drawing.\nfig, ax = plt.subplots()\ng = Graph(edges, node_layout=node_layout, ax=ax)\n\n# Simulate a series of network states, such that each edge is assigned a different random value for each successive state.\ntotal_states = 10\nedge_values = {edge : np.random.normal(0, 1, size=total_states) for edge in edges}\nstates = np.arange(total_states)\ntotal_interpolated_states = 100\ninterpolated_states = np.linspace(states.min(), states.max(), total_interpolated_states)\ninterpolated_edge_values = {edge : np.interp(interpolated_states, states, values) for edge, values in edge_values.items()}\n\n# Map positive and negative edge values to diverging colors; ensure that zero is the center of the colormap.\nnorm = TwoSlopeNorm(vmin=-2, vcenter=0, vmax=2)\n\ndef get_color(v):\n    return plt.cm.coolwarm(norm(v))\n\n# Map large absolute edge values (including negative ones) to large edge widths.\ndef get_width(v, max_width=3):\n    width = 2 * abs(norm(v) - 0.5)\n    # Ensure that the returned edge width is non-zero.\n    return max(max_width * width, 1e-3)\n\ndef update(ii):\n    stale_artists = []\n    for (edge, artist) in g.edge_artists.items():\n        value = interpolated_edge_values[edge][ii]\n        artist.set_color(get_color(value))\n        # Normally, netgraph re-scales edge widths internally by BASE_SCALE to ensure\n        # that \"typical\" edge widths look comparable in netgraph, networkx, and igraph.\n        # As we are manipulating the edge artist directly, we have to do the same here.\n        artist.update_width(get_width(value) * BASE_SCALE)\n        stale_artists.append(artist)\n    return stale_artists\n\nanimation = FuncAnimation(fig, update, frames=total_interpolated_states, interval=50, blit=True)"
      ]
    }
  ],
  "metadata": {
    "kernelspec": {
      "display_name": "Python 3",
      "language": "python",
      "name": "python3"
    },
    "language_info": {
      "codemirror_mode": {
        "name": "ipython",
        "version": 3
      },
      "file_extension": ".py",
      "mimetype": "text/x-python",
      "name": "python",
      "nbconvert_exporter": "python",
      "pygments_lexer": "ipython3",
      "version": "3.9.16"
    }
  },
  "nbformat": 4,
  "nbformat_minor": 0
}