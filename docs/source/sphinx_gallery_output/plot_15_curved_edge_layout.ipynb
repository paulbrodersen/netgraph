{
  "cells": [
    {
      "cell_type": "code",
      "execution_count": null,
      "metadata": {
        "collapsed": false
      },
      "outputs": [],
      "source": [
        "%matplotlib inline"
      ]
    },
    {
      "cell_type": "markdown",
      "metadata": {},
      "source": [
        "\n# Curved Edges\n\nIn the 'curved' edge layout, edges are repelled by nodes. This reduces node/edge occlusions.\nIf the (optional) parameter :code:`bundle_parallel_edges` (default :code:`True`) is set to :code:`False`,\nthen edges also repel each other.\nThe :code:`k` parameter governs how strongly edges are displaced by these repulsive forces and hence curved.\n"
      ]
    },
    {
      "cell_type": "code",
      "execution_count": null,
      "metadata": {
        "collapsed": false
      },
      "outputs": [],
      "source": [
        "import numpy as np\nimport matplotlib.pyplot as plt\n\nfrom netgraph import Graph\n\nedges = [\n    (0, 1),\n    (1, 2),\n    (0, 2),\n    (2, 0),\n]\nnode_positions = {\n    0 : np.array([0.2, 0.5]),\n    1 : np.array([0.5, 0.5]),\n    2 : np.array([0.8, 0.5]),\n}\n\nGraph(edges,\n      node_layout=node_positions,\n      node_labels=True,\n      edge_layout=\"curved\",\n      edge_layout_kwargs=dict(bundle_parallel_edges=False, k=0.1),\n      arrows=True,\n)\nplt.show()"
      ]
    }
  ],
  "metadata": {
    "kernelspec": {
      "display_name": "Python 3",
      "language": "python",
      "name": "python3"
    },
    "language_info": {
      "codemirror_mode": {
        "name": "ipython",
        "version": 3
      },
      "file_extension": ".py",
      "mimetype": "text/x-python",
      "name": "python",
      "nbconvert_exporter": "python",
      "pygments_lexer": "ipython3",
      "version": "3.9.18"
    }
  },
  "nbformat": 4,
  "nbformat_minor": 0
}