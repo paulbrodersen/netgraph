{
  "cells": [
    {
      "cell_type": "code",
      "execution_count": null,
      "metadata": {
        "collapsed": false
      },
      "outputs": [],
      "source": [
        "%matplotlib inline"
      ]
    },
    {
      "cell_type": "markdown",
      "metadata": {},
      "source": [
        "\n# Arc Diagrams\n"
      ]
    },
    {
      "cell_type": "code",
      "execution_count": null,
      "metadata": {
        "collapsed": false
      },
      "outputs": [],
      "source": [
        "import matplotlib.pyplot as plt\nimport networkx as nx\n\nfrom netgraph import ArcDiagram\n\nn = 20\ng = nx.random_tree(n, seed=42)\n\nArcDiagram(g, node_labels=True, node_size=1, node_edge_width=0.1, edge_width=0.1)\nplt.show()"
      ]
    },
    {
      "cell_type": "markdown",
      "metadata": {},
      "source": [
        "By default, ArcDiagram optimises the node order such that the number of edge crossings is minimised.\nFor larger graphs, this process can take a long time.\nThe node order can be set explicitly using the :code:`node_order` argument.\nIn this case, no optimisation is attempted.\n\n"
      ]
    },
    {
      "cell_type": "code",
      "execution_count": null,
      "metadata": {
        "collapsed": false
      },
      "outputs": [],
      "source": [
        "ArcDiagram(g, node_order=range(n), node_labels=True, node_size=1, node_edge_width=0.1, edge_width=0.1)\nplt.show()"
      ]
    },
    {
      "cell_type": "markdown",
      "metadata": {},
      "source": [
        "Arc diagrams are useful to compare two networks with the same number of nodes,\nfor example, the connectivity in the same network before and after some changes.\n\n"
      ]
    },
    {
      "cell_type": "code",
      "execution_count": null,
      "metadata": {
        "collapsed": false
      },
      "outputs": [],
      "source": [
        "# Swap a few edges in the original graph. As this occurs in-place, we first make a copy.\nh = g.copy()\nnx.double_edge_swap(h, nswap=3)\n\n# Visualise the changes in connectivity by plotting the two configurations above and below the center line.\n# Highlight edges that were removed in red; new edges are shown in blue.\nfig, ax = plt.subplots()\nedge_color = {edge : \"tab:red\" if edge not in h.edges() else \"lightgray\" for edge in g.edges()}\nArcDiagram(g, above=False, node_order=range(n), node_size=1, node_edge_width=0.1, edge_color=edge_color, edge_width=0.5, ax=ax)\nedge_color = {edge : \"tab:blue\" if edge not in g.edges() else \"lightgray\" for edge in h.edges()}\nArcDiagram(h, above=True,  node_order=range(n), node_size=1, node_edge_width=0.1, edge_color=edge_color, edge_width=0.5, ax=ax)\nplt.show()"
      ]
    }
  ],
  "metadata": {
    "kernelspec": {
      "display_name": "Python 3",
      "language": "python",
      "name": "python3"
    },
    "language_info": {
      "codemirror_mode": {
        "name": "ipython",
        "version": 3
      },
      "file_extension": ".py",
      "mimetype": "text/x-python",
      "name": "python",
      "nbconvert_exporter": "python",
      "pygments_lexer": "ipython3",
      "version": "3.9.16"
    }
  },
  "nbformat": 4,
  "nbformat_minor": 0
}