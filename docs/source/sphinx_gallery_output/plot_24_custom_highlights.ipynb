{
  "cells": [
    {
      "cell_type": "markdown",
      "metadata": {},
      "source": [
        "\n# Custom Mouseover Highlighting\n\nWhen using interactive graph classes (:py:class:`InteractiveGraph`, :py:class:`MutableGraph`, :py:class:`EditableGraph`, and the :py:class:`MultiGraph` and :py:class:`ArcDiagram` equivalents), hovering with the mouse over graph elements highlights them and other connected graph elements. By default, hovering over a node highlights the node, its neighbours, and any edges between them. Hovering over an edge highlights the edge, and its source and target node.\n\nThis behaviour can be changed by redefining the :code:`mouseover_hightlight_mapping` class attribute after instantiation.\n\n<div class=\"alert alert-info\"><h4>Note</h4><p>The images in the documentation are static images that don't support interactive events. Please run the following example code locally to observe the intended behaviour.</p></div>\n"
      ]
    },
    {
      "cell_type": "code",
      "execution_count": null,
      "metadata": {
        "collapsed": false
      },
      "outputs": [],
      "source": [
        "import matplotlib.pyplot as plt\nfrom netgraph import InteractiveGraph\n\nedges = [(0, 1), (1, 2), (2, 0)]\ncustom_mapping = {\n    0 : [],                        # nothing is highlighted / everything is de-emphasized\n    1 : [1],                       # only the node being hovered over is highlighted\n    2 : [2, 1, 0, (1, 2), (2, 0)], # the node, its neighbours and connecting edges are highlighted (same as default behaviour)\n    (0, 1) : [(2, 0)],             # another edge is highlighted\n    (1, 2) : [(1, 2), 1, 2],       # the edge, and its source and target nodes are highlighted (same as default behaviour)\n    # (2, 0)                       # nothing happens when hovering over edge (2, 0)\n}\n\nfig, ax = plt.subplots(figsize=(10, 10))\ng = InteractiveGraph(edges, node_labels=True, edge_labels=True, ax=ax)\ng.mouseover_highlight_mapping = custom_mapping\nplt.show()"
      ]
    },
    {
      "cell_type": "markdown",
      "metadata": {},
      "source": [
        "To turn off highlighting completely, provide an empty dictionary instead:\n\n"
      ]
    },
    {
      "cell_type": "code",
      "execution_count": null,
      "metadata": {
        "collapsed": false
      },
      "outputs": [],
      "source": [
        "fig, ax = plt.subplots(figsize=(10, 10))\ng = InteractiveGraph(edges, node_labels=True, edge_labels=True, ax=ax)\ng.mouseover_highlight_mapping = dict()\nplt.show()"
      ]
    }
  ],
  "metadata": {
    "kernelspec": {
      "display_name": "Python 3",
      "language": "python",
      "name": "python3"
    },
    "language_info": {
      "codemirror_mode": {
        "name": "ipython",
        "version": 3
      },
      "file_extension": ".py",
      "mimetype": "text/x-python",
      "name": "python",
      "nbconvert_exporter": "python",
      "pygments_lexer": "ipython3",
      "version": "3.12.3"
    }
  },
  "nbformat": 4,
  "nbformat_minor": 0
}