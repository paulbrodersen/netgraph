{
  "cells": [
    {
      "cell_type": "code",
      "execution_count": null,
      "metadata": {
        "collapsed": false
      },
      "outputs": [],
      "source": [
        "%matplotlib inline"
      ]
    },
    {
      "cell_type": "markdown",
      "metadata": {},
      "source": [
        "\n# Geometric node layout\n\nThe 'geometric' node layout uses non-linear optimisation to infer node\npositions given the length of the edges between them. Note that while\nthe relative node positions can often be recovered quite well such\nthat the shape of the network is preserved, the orientation of the\nnetwork as a whole is completely arbitrary.\n"
      ]
    },
    {
      "cell_type": "code",
      "execution_count": null,
      "metadata": {
        "collapsed": false
      },
      "outputs": [],
      "source": [
        "import numpy as np\nimport matplotlib.pyplot as plt\nimport networkx as nx\n\nfrom netgraph import Graph\n\n# Create a random geometric graph and plot the graph using the original node positions.\ng = nx.random_geometric_graph(50, 0.3, seed=2)\noriginal_positions = nx.get_node_attributes(g, 'pos')\n\nfig, (ax1, ax2) = plt.subplots(1, 2)\nplot_instance = Graph(g,\n                      node_layout=original_positions,\n                      node_size=1,\n                      node_edge_width=0.1,\n                      edge_width=0.1,\n                      ax=ax1,\n)\nax1.axis([0, 1, 0, 1])\nax1.set_title('Original node positions')\n\n# Compute edge lengths.\nedge_length = dict()\nfor (source, target) in g.edges:\n    x1, y1 = original_positions[source]\n    x2, y2 = original_positions[target]\n    edge_length[(source, target)] = np.sqrt((x2 - x1)**2 + (y2 - y1)**2)\n\n# Plot the graph using node positions inferred from edge lengths.\nGraph(g,\n      node_layout=\"geometric\",\n      node_layout_kwargs=dict(edge_length=edge_length, tol=1e-3),\n      node_size=1,\n      node_edge_width=0.1,\n      edge_width=0.1,\n      ax=ax2,\n)\nax2.axis([0, 1, 0, 1])\nax2.set_title('Reconstructed node positions')\n\nplt.show()"
      ]
    }
  ],
  "metadata": {
    "kernelspec": {
      "display_name": "Python 3",
      "language": "python",
      "name": "python3"
    },
    "language_info": {
      "codemirror_mode": {
        "name": "ipython",
        "version": 3
      },
      "file_extension": ".py",
      "mimetype": "text/x-python",
      "name": "python",
      "nbconvert_exporter": "python",
      "pygments_lexer": "ipython3",
      "version": "3.9.16"
    }
  },
  "nbformat": 4,
  "nbformat_minor": 0
}