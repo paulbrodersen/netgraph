{
  "cells": [
    {
      "cell_type": "code",
      "execution_count": null,
      "metadata": {
        "collapsed": false
      },
      "outputs": [],
      "source": [
        "%matplotlib inline"
      ]
    },
    {
      "cell_type": "markdown",
      "metadata": {},
      "source": [
        "# Multigraphs\n\nA multigraph is a graph that is permitted to have more than one edge\nwith the same source and target nodes. Multigraphs are often used to\nrepresent networks with distinct types of edges, such as, for example,\ntransportation networks that include different means of transportation.\n\nThis tutorial shows how to create a basic visualisation of a multigraph\nand covers the different supported multigraph input formats.\n"
      ]
    },
    {
      "cell_type": "code",
      "execution_count": null,
      "metadata": {
        "collapsed": false
      },
      "outputs": [],
      "source": [
        "import numpy as np\nimport matplotlib.pyplot as plt\nimport networkx as nx\nimport igraph\n\nfrom netgraph import MultiGraph\n\n# define the graph\nedges = [\n    (0, 0, \"a\"),\n    (0, 1, \"a\"),\n    (1, 1, \"a\"),\n    (1, 1, \"b\"),\n    (1, 2, \"a\"),\n    (1, 2, \"b\"),\n    (2, 0, \"a\"),\n    (2, 0, \"b\"),\n    (2, 0, \"c\"),\n    (2, 2, \"a\"),\n    (2, 2, \"b\"),\n    (2, 2, \"c\"),\n    (0, 3, \"a\"),\n    (3, 0, \"a\"),\n    (1, 3, \"a\"),\n    (1, 3, \"b\"),\n    (3, 1, \"a\"),\n    (3, 1, \"b\"),\n    (2, 3, \"a\"),\n    (2, 3, \"b\"),\n    (3, 2, \"a\"),\n]\n\n# color edges according to edge key\nkey_to_color = {\n    \"a\" : \"tab:blue\",\n    \"b\" : \"tab:orange\",\n    \"c\" : \"tab:red\",\n}\nedge_color = {(source, target, key) : key_to_color[key] \\\n              for (source, target, key) in edges}\n\n# plot\n_ = MultiGraph(\n    edges,\n    edge_layout=\"curved\",\n    edge_color=edge_color,\n    node_labels=True,\n    arrows=True,\n)"
      ]
    },
    {
      "cell_type": "markdown",
      "metadata": {},
      "source": [
        "Netgraph supports a variety of different input formats:\n\n"
      ]
    },
    {
      "cell_type": "code",
      "execution_count": null,
      "metadata": {
        "collapsed": false
      },
      "outputs": [],
      "source": [
        "# 1. Edge lists:\n# An iterable of (source node ID, target node ID, edge key) or\n# (source node ID, target node ID, edge key, weight) tuples, or\n# an equivalent (E, 3) or (E, 4)  numpy array (where E is the number of edges).\nedges = [\n    (0, 1, 0),\n    (0, 1, 1),\n    (0, 1, 2),\n]\n_ = MultiGraph(edges)"
      ]
    },
    {
      "cell_type": "markdown",
      "metadata": {},
      "source": [
        "2. Adjacency matrices:\nA (V, V, L)  numpy array, where V is the number of nodes/vertices, and L is\nthe number of layers. The absence of a connection is indicated by a zero.\n\n"
      ]
    },
    {
      "cell_type": "code",
      "execution_count": null,
      "metadata": {
        "collapsed": false
      },
      "outputs": [],
      "source": [
        "adjacency = np.zeros((2, 2, 3))\nadjacency[0, 1, 0] = 1\nadjacency[0, 1, 1] = 1\nadjacency[0, 1, 2] = 1\n_ = MultiGraph(adjacency)"
      ]
    },
    {
      "cell_type": "markdown",
      "metadata": {},
      "source": [
        "3. networkx.MultiGraph objects:\n\n"
      ]
    },
    {
      "cell_type": "code",
      "execution_count": null,
      "metadata": {
        "collapsed": false
      },
      "outputs": [],
      "source": [
        "g = nx.MultiGraph(edges)\n_ = MultiGraph(g)"
      ]
    },
    {
      "cell_type": "markdown",
      "metadata": {},
      "source": [
        "4. igraph.Graph objects:\n\n"
      ]
    },
    {
      "cell_type": "code",
      "execution_count": null,
      "metadata": {
        "collapsed": false
      },
      "outputs": [],
      "source": [
        "g = igraph.Graph([edge[:2] for edge in edges])\ng.es[\"id\"] = [edge[2] for edge in edges]\n_ = MultiGraph(g)"
      ]
    },
    {
      "cell_type": "markdown",
      "metadata": {},
      "source": [
        "For technical reasons, :code:`graph_tool.Graph` multigraphs are not supported,\neven though plotting of :code:`graph_tool.Graph` objects is supported for non-multigraphs.\nPlease convert your graph-tool multigraphs to any of the supported formats before plotting.\n\n"
      ]
    }
  ],
  "metadata": {
    "kernelspec": {
      "display_name": "Python 3",
      "language": "python",
      "name": "python3"
    },
    "language_info": {
      "codemirror_mode": {
        "name": "ipython",
        "version": 3
      },
      "file_extension": ".py",
      "mimetype": "text/x-python",
      "name": "python",
      "nbconvert_exporter": "python",
      "pygments_lexer": "ipython3",
      "version": "3.9.18"
    }
  },
  "nbformat": 4,
  "nbformat_minor": 0
}