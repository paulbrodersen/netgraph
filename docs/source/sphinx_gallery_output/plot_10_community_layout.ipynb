{
  "cells": [
    {
      "cell_type": "code",
      "execution_count": null,
      "metadata": {
        "collapsed": false
      },
      "outputs": [],
      "source": [
        "%matplotlib inline"
      ]
    },
    {
      "cell_type": "markdown",
      "metadata": {},
      "source": [
        "\n# Community Node Layout / Edge Bundling\n\nNetworks often contain groups of nodes, which share some property and\nare typically more densely connected with each other than with nodes outside of that group.\nA typical example are friendship groups within the wider facebook graph of acquaintances.\n\nHere we emphasise the modular structure of a graph by using the the :code:`community` node layout,\nwhich places nodes belonging to the same community close to each other,\nby giving nodes from the same community the same colour, and\nby using edge bundling, which tends to de-emphasize the connectivity between different parts of a network.\n"
      ]
    },
    {
      "cell_type": "code",
      "execution_count": null,
      "metadata": {
        "collapsed": false
      },
      "outputs": [],
      "source": [
        "import matplotlib.pyplot as plt\nimport networkx as nx\n\nfrom netgraph import Graph\n\n# create a modular graph\npartition_sizes = [10, 20, 30]\ng = nx.random_partition_graph(partition_sizes, 0.5, 0.1)\n\n# create a dictionary that maps nodes to the community they belong to\nnode_to_community = dict()\nnode = 0\nfor community_id, size in enumerate(partition_sizes):\n    for _ in range(size):\n        node_to_community[node] = community_id\n        node += 1\n\ncommunity_to_color = {\n    0 : 'tab:blue',\n    1 : 'tab:orange',\n    2 : 'tab:green',\n}\nnode_color = {node: community_to_color[community_id] for node, community_id in node_to_community.items()}\n\nGraph(g,\n      node_color=node_color, node_edge_width=0, edge_alpha=0.1,\n      node_layout='community', node_layout_kwargs=dict(node_to_community=node_to_community),\n      edge_layout='bundled', edge_layout_kwargs=dict(k=2000, verbose=False),\n)\n\nplt.show()"
      ]
    },
    {
      "cell_type": "markdown",
      "metadata": {},
      "source": [
        "Unlike in the example above, the community structure of a graph is often not known but has to be inferred.\nFor an overview of available community detection algorithms, see `Porter et al. (2009) Communities in networks`.\nCommunity detection algorithms are outside the scope of the Netgraph library,\nbut many are available in networkx_, igraph_, and graph-tool_.\nDo note that community detection has been a rapidly evolving field and\nthat classic algorithms such as Newman-Girvan or Louvain may not be the best available choices nowadays.\nFor an opinionated but very readable introduction into recent developments in this area,\nsee the blog_ of Tiago de Paula Peixoto, the author of the graph-tool library.\n\n\n"
      ]
    }
  ],
  "metadata": {
    "kernelspec": {
      "display_name": "Python 3",
      "language": "python",
      "name": "python3"
    },
    "language_info": {
      "codemirror_mode": {
        "name": "ipython",
        "version": 3
      },
      "file_extension": ".py",
      "mimetype": "text/x-python",
      "name": "python",
      "nbconvert_exporter": "python",
      "pygments_lexer": "ipython3",
      "version": "3.9.16"
    }
  },
  "nbformat": 4,
  "nbformat_minor": 0
}