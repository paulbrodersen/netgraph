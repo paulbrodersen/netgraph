{
  "cells": [
    {
      "cell_type": "code",
      "execution_count": null,
      "metadata": {
        "collapsed": false
      },
      "outputs": [],
      "source": [
        "%matplotlib inline"
      ]
    },
    {
      "cell_type": "markdown",
      "metadata": {},
      "source": [
        "\n# Flowcharts\n\nWhile Netgraph is not designed to make flowcharts, it can be used for\nthat purpose. Simply define the shape of the nodes / text boxes using\nmatplotlib Path objects, and set their sizes and (initial) positions.\nWhen using the :code:`InteractiveGraph` class, the node / text box\npositions can be tweaked with the mouse after the initial draw. If the\nfont size is not set explicitly, Netgraph rescales the text until all\ntext objects fit into their node shape.\n\nExample adapted from https://xkcd.com/1195/.\n"
      ]
    },
    {
      "cell_type": "code",
      "execution_count": null,
      "metadata": {
        "collapsed": false
      },
      "outputs": [],
      "source": [
        "import numpy as np\nimport matplotlib.pyplot as plt\n\nfrom matplotlib.path import Path\nfrom netgraph import InteractiveGraph\n\nedges = [(0, 1), (1, 1)]\n\nnode_labels = {\n    0 : \"START\",\n    1 : \"HEY, WAIT,\\nTHIS FLOWCHART\\nIS A TRAP!\"\n}\n\nedge_labels = {\n    (1, 1) : \"YES\"\n}\n\n# Define the node shapes; note that the path objects have to be centred on zero and closed.\nnode_shape = {\n    0 : Path([(-1, -1), (1, -1), (1, 1), (-1, 1), (-1, -1)], closed=True), # square\n    1 : Path([(0, -1), (1, 0), (0, 1), (-1, 0), (0, -1)], closed=True), # diamond\n}\n\nnode_size = {\n    0 : 30,\n    1 : 60,\n}\n\nnode_positions = {\n    0 : (0.5, 0.9),\n    1 : (0.5, 0.3),\n}\n\nedge_layout = {\n    (0, 1) : np.array([(0.5, 0.9), (0.5, 0.3)]),\n    (1, 1) : np.array([(0.5, 0.3), (0.5, -0.2), (1.1, -0.2), (1.1, 0.3), (0.5, 0.3)]),\n}\n\nwith plt.xkcd():\n    fig, ax = plt.subplots()\n    InteractiveGraph(edges,\n                     node_layout=node_positions,\n                     node_labels=node_labels,\n                     node_shape=node_shape,\n                     node_size=node_size,\n                     # edge_layout=\"straight\", edge_layout_kwargs=dict(selfloop_radius=0.3),\n                     edge_layout=edge_layout,\n                     edge_labels=edge_labels,\n                     edge_label_position=0.35,\n                     edge_width=2,\n                     arrows=True,\n                     ax=ax)\n    ax.set_title(\"https://xkcd.com/1195/\")\n    plt.show()"
      ]
    }
  ],
  "metadata": {
    "kernelspec": {
      "display_name": "Python 3",
      "language": "python",
      "name": "python3"
    },
    "language_info": {
      "codemirror_mode": {
        "name": "ipython",
        "version": 3
      },
      "file_extension": ".py",
      "mimetype": "text/x-python",
      "name": "python",
      "nbconvert_exporter": "python",
      "pygments_lexer": "ipython3",
      "version": "3.9.16"
    }
  },
  "nbformat": 4,
  "nbformat_minor": 0
}