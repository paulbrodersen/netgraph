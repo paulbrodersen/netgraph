{
  "cells": [
    {
      "cell_type": "code",
      "execution_count": null,
      "metadata": {
        "collapsed": false
      },
      "outputs": [],
      "source": [
        "%matplotlib inline"
      ]
    },
    {
      "cell_type": "markdown",
      "metadata": {},
      "source": [
        "\n# Circular node layout\n\nThe circular node layout routine in netgraph uses the Baur-Brandes algorithm to reduce edge crossings.\n"
      ]
    },
    {
      "cell_type": "code",
      "execution_count": null,
      "metadata": {
        "collapsed": false
      },
      "outputs": [],
      "source": [
        "import matplotlib.pyplot as plt\n\nfrom netgraph import Graph\n\nunbalanced_tree = [\n    (0, 1),\n    (0, 2),\n    (0, 3),\n    (0, 4),\n    (0, 5),\n    (2, 6),\n    (3, 7),\n    (3, 8),\n    (4, 9),\n    (4, 10),\n    (4, 11),\n    (5, 12),\n    (5, 13),\n    (5, 14),\n    (5, 15)\n]\nGraph(unbalanced_tree, node_labels=True, node_layout='circular')\nplt.show()"
      ]
    },
    {
      "cell_type": "markdown",
      "metadata": {},
      "source": [
        "For large graphs, this process can be slow. To skip edge crossing minimisation,\nset :code:`reduce_edge_crossings` to :code:`False`:\n\n"
      ]
    },
    {
      "cell_type": "code",
      "execution_count": null,
      "metadata": {
        "collapsed": false
      },
      "outputs": [],
      "source": [
        "Graph(unbalanced_tree, node_labels=True,\n      node_layout='circular', node_layout_kwargs=dict(reduce_edge_crossings=False))\nplt.show()"
      ]
    },
    {
      "cell_type": "markdown",
      "metadata": {},
      "source": [
        "You can also specify the node order directly:\n\n"
      ]
    },
    {
      "cell_type": "code",
      "execution_count": null,
      "metadata": {
        "collapsed": false
      },
      "outputs": [],
      "source": [
        "Graph(unbalanced_tree, node_labels=True, node_layout='circular',\n      node_layout_kwargs=dict(node_order=[0, 2, 4, 6, 8, 10, 12, 14, 1, 3, 5, 7, 9, 11, 13, 15]))\nplt.show()"
      ]
    }
  ],
  "metadata": {
    "kernelspec": {
      "display_name": "Python 3",
      "language": "python",
      "name": "python3"
    },
    "language_info": {
      "codemirror_mode": {
        "name": "ipython",
        "version": 3
      },
      "file_extension": ".py",
      "mimetype": "text/x-python",
      "name": "python",
      "nbconvert_exporter": "python",
      "pygments_lexer": "ipython3",
      "version": "3.9.18"
    }
  },
  "nbformat": 4,
  "nbformat_minor": 0
}