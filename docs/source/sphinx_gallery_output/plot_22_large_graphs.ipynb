{
  "cells": [
    {
      "cell_type": "code",
      "execution_count": null,
      "metadata": {
        "collapsed": false
      },
      "outputs": [],
      "source": [
        "%matplotlib inline"
      ]
    },
    {
      "cell_type": "markdown",
      "metadata": {},
      "source": [
        "\n# Visualising Large Graphs\n\n## Or: how to deal with hairballs\n\nWhen visualising very large graphs, link diagrams often result in\nso-called 'hairballs', in which nodes and edges are densely packed and\noverlap considerably. This can make it difficult or impossible to discern\nany structure in the graph.\n"
      ]
    },
    {
      "cell_type": "code",
      "execution_count": null,
      "metadata": {
        "collapsed": false
      },
      "outputs": [],
      "source": [
        "import numpy as np\nimport matplotlib.pyplot as plt\nimport networkx as nx\nfrom netgraph import Graph\n\nGraph(nx.complete_graph(100), node_size=1, node_edge_width=0.1, edge_width=0.1)\nplt.show()"
      ]
    },
    {
      "cell_type": "markdown",
      "metadata": {},
      "source": [
        "Often, the problem is not solvable by choosing a better node layout\nor edge routing algorithm. Nodes require a minimum size to be\ndiscernible, edges a minimum width, and both require some whitespace\naround them, so that they can be distinguished from other plot\nelements. On the other hand, figures and computer screens have a\nfinite number pixels: with 10k edges and a large figure with\ndimensions 20 inches by 10 inches and 100 DPI, each edge can occupy\nat most 200 pixels before edges have to overlap. By comparison, each\nletter in this sentence is rendered using 200-400 pixels (depending\non browser, font, fontsize, screen resolution, etc.).\n\nRemedies to this problem fall into three categories:\n\n1. coarse-graining the graph,\n2. visualising subgraphs,\n3. visualising graph properties other than connectivity.\n\n## 1. Coarse-graining\n\nCoarse-graining is a procedure in which groups of nodes are\ncontracted into a single node and their edges merged. There are\ndifferent coarse-graining procedures, and which one is the best for\nyou will depend on the type of graph, its structure, and what\nproperties of the graph your are interested in. However, often a\nrational choice to visualise the meso-scale in large graphs is to\ngroup nodes into communities, such that nodes are more densely\nconnected with nodes within the same community than with nodes in\nother communities.\n\n"
      ]
    },
    {
      "cell_type": "code",
      "execution_count": null,
      "metadata": {
        "collapsed": false
      },
      "outputs": [],
      "source": [
        "# create a modulat graph\npartition_sizes = [50, 50, 100, 100, 200, 200, 300]\ng = nx.random_partition_graph(partition_sizes, 0.1, 1e-4, seed=0)\n\n# create a dictionary that maps nodes to the community they belong to\ncommunity_size = dict(list(enumerate(partition_sizes)))\nnode_to_community = dict()\nnode = 0\nfor community, size in community_size.items():\n    for _ in range(size):\n        node_to_community[node] = community\n        node += 1\n\n# compute the community structure of the graph\ndef get_community_graph(edges, node_to_community):\n    \"\"\"Convert the graph into a weighted network of communities.\"\"\"\n    community_edges = dict()\n    for (n1, n2) in edges:\n        c1 = node_to_community[n1]\n        c2 = node_to_community[n2]\n        if c1 != c2:\n            community_edges[(c1, c2)] = community_edges.get((c1, c2), 0) + 1\n    return community_edges\n\ncommunity_edges = get_community_graph(g.edges, node_to_community)\n\n# plot\nfig, (ax1, ax2) = plt.subplots(1, 2, figsize=(10, 5))\n\nax1.set_title(\"Original graph\")\nGraph(g, node_size=1, node_edge_width=0.1, edge_width=0.1, ax=ax1)\n\nax2.set_title(\"Coarse-grained graph structure\")\nedges = list(community_edges.keys())\nnode_size = {community : size / 50 for (community, size) in community_size.items()}\nedge_width = {edge : np.log(weight + 1) for edge, weight in community_edges.items()}\nGraph(edges, node_size=node_size, edge_width=edge_width, ax=ax2)\n\nplt.show()"
      ]
    },
    {
      "cell_type": "markdown",
      "metadata": {},
      "source": [
        "If the communities are unknown, they can be inferred, for example\nusing the Louvain algorithm (:code:`pip install python-louvain`):\n\n"
      ]
    },
    {
      "cell_type": "code",
      "execution_count": null,
      "metadata": {
        "collapsed": false
      },
      "outputs": [],
      "source": [
        "from community import community_louvain\nnode_to_community = community_louvain.best_partition(g)"
      ]
    },
    {
      "cell_type": "markdown",
      "metadata": {},
      "source": [
        "## 2. Visualising subgraphs\n\nIf the graph consists of multiple components, i.e. multiple\nconnected subgraphs that are not part of any larger connected\nsubgraph, the simplest solution is to plot each component separately.\n\n"
      ]
    },
    {
      "cell_type": "code",
      "execution_count": null,
      "metadata": {
        "collapsed": false
      },
      "outputs": [],
      "source": [
        "# create a multi-component graph\ng = nx.Graph()\nfor ii in range(3):\n    h = nx.erdos_renyi_graph(100, 0.05)\n    g = nx.disjoint_union(g, h)\n\n# plot components\nfor ii, component in enumerate(nx.components.connected_components(g)):\n    subgraph = nx.subgraph(g, component)\n    fig, ax = plt.subplots()\n    Graph(subgraph, node_size=1, node_edge_width=0.1, edge_width=0.1, ax=ax)\n    ax.set_title(f\"Component {ii+1}\")\nplt.show()"
      ]
    },
    {
      "cell_type": "markdown",
      "metadata": {},
      "source": [
        "If there some nodes are of particular interest, for example, because\nthey are densely connected hubs, it can be instructive to visualize\ntheir immediate vicinity.\n\n"
      ]
    },
    {
      "cell_type": "code",
      "execution_count": null,
      "metadata": {
        "collapsed": false
      },
      "outputs": [],
      "source": [
        "hub_node = sorted(g, key=lambda x: g.degree(x), reverse=True)[0]\nh = nx.ego_graph(g, hub_node, radius=3)\nnode_color = {node : \"tab:red\" if node == hub_node else \"white\" for node in h.nodes}\nnode_size = {node : 5 if node == hub_node else 1 for node in h.nodes}\nfig, ax = plt.subplots()\nGraph(h, node_color=node_color, node_size=node_size, node_edge_width=0.1, edge_width=0.1, ax=ax)\nax.set_title(f\"Vicinity of Hub Node {hub_node}\")\nplt.show()"
      ]
    },
    {
      "cell_type": "markdown",
      "metadata": {},
      "source": [
        "## 3. Visualising other graph properties\n\nEven if the connectivity of a graph cannot be visualised, other\nproperties of the graph often can be, such as the degree\ndistribution, the various centrality measures, assortativity, and\nclustering, to name but a few.\n\nRecent advances to characterise the local neighbourhood of nodes in\ngraphs with multiple node types (e.g. graphs corresponding to\nmolecules composed of different elements) are graph embeddings such\nas node2vec_, DeepWalk_, and `graph convolutions / Graph Neural\nNetworks (GNNs)`_. The aim of these methods is to systematically\ndescribe each node and its neighbourhood using only a small, ordered\nset of floats. Each such set forms a point in a multi-dimensional\nspace (i.e. the embedding), and points that are close in this space\ncorrespond to nodes with similar properties and neighbourhoods.  By\nreducing the dimensionality of the embedding down to two dimensions\nusing standard techniques such as PCA or UMAP, or by simply plotting\nonly two dimensions at a time, these node embeddings can be readily\nvisualised. However, creating such visualisations is outside the\nscope of netgraph, which is a library to create link-diagrams.\n\n\n"
      ]
    }
  ],
  "metadata": {
    "kernelspec": {
      "display_name": "Python 3",
      "language": "python",
      "name": "python3"
    },
    "language_info": {
      "codemirror_mode": {
        "name": "ipython",
        "version": 3
      },
      "file_extension": ".py",
      "mimetype": "text/x-python",
      "name": "python",
      "nbconvert_exporter": "python",
      "pygments_lexer": "ipython3",
      "version": "3.9.18"
    }
  },
  "nbformat": 4,
  "nbformat_minor": 0
}