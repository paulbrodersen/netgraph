{
  "cells": [
    {
      "cell_type": "code",
      "execution_count": null,
      "metadata": {
        "collapsed": false
      },
      "outputs": [],
      "source": [
        "%matplotlib inline"
      ]
    },
    {
      "cell_type": "markdown",
      "metadata": {},
      "source": [
        "\n# Weighted Graphs (1)\n\nA minimal working example to visualise a weighted & directed graph using default parameters.\n"
      ]
    },
    {
      "cell_type": "code",
      "execution_count": null,
      "metadata": {
        "collapsed": false
      },
      "outputs": [],
      "source": [
        "import matplotlib.pyplot as plt\n\nfrom netgraph import Graph\n\n# Define the graph; here we use an edge list but we could also have used\n# - a full rank matrix (numpy array) with more than one unique non-zero entry,\n# - a networkx Graph object with edges with a 'weight' attribute, or\n# - an igraph Graph object with edges with a 'weight' attribute.\nweighted_cube = [\n    (0, 1, -0.1),\n    (1, 2, -0.2),\n    (2, 3, -0.4),\n    (3, 2,  0.0),\n    (3, 0, -0.2),\n    (4, 5,  0.7),\n    (5, 6,  0.9),\n    (6, 5, -0.2),\n    (6, 7,  0.5),\n    (7, 4,  0.1),\n    (0, 4,  0.5),\n    (1, 5, -0.3),\n    (5, 1, -0.4),\n    (2, 6,  0.8),\n    (3, 7,  0.4)\n]\n\nGraph(weighted_cube, arrows=True)\nplt.show()"
      ]
    },
    {
      "cell_type": "markdown",
      "metadata": {},
      "source": [
        "By default, if the graph appears to be weighted and the :code:`edge_color`\nparameter is left unspecified by the user, Netgraph represents different edge\nweights using different colors. The default colormap is :code:`'RdGy'`,\nbut any diverging matplotlib colormap can be used:\n\n- :code:`'PiYG'`\n- :code:`'PRGn'`\n- :code:`'BrBG'`\n- :code:`'PuOr'`\n- :code:`'RdGy'` (default)\n- :code:`'RdBu'`\n- :code:`'RdYlBu'`\n- :code:`'RdYlGn'`\n- :code:`'Spectral'`\n- :code:`'coolwarm'`\n- :code:`'bwr'`\n- :code:`'seismic'`\n\nNote that Netgraph maps edge weights to colors such that a weight of zero\nalways corresponds to the center of the color map.\nIf all edge weights are strictly positive, weights are mapped to the\nleft hand side of the color map with :code:`vmin=0` and :code:`vmax=np.max(weights)`.\nIf edge weights are positive and negative, then the vmin and vmax boundaries\nare set to +/- the maximum absolute weight.\n\nCustom diverging colormaps can be created using matploltib's :code:`LinearSegmentedColormap`:\n\n"
      ]
    },
    {
      "cell_type": "code",
      "execution_count": null,
      "metadata": {
        "collapsed": false
      },
      "outputs": [],
      "source": [
        "from matplotlib.colors import LinearSegmentedColormap\ncmap = LinearSegmentedColormap.from_list('my_name', ['red', 'white', 'blue'])"
      ]
    }
  ],
  "metadata": {
    "kernelspec": {
      "display_name": "Python 3",
      "language": "python",
      "name": "python3"
    },
    "language_info": {
      "codemirror_mode": {
        "name": "ipython",
        "version": 3
      },
      "file_extension": ".py",
      "mimetype": "text/x-python",
      "name": "python",
      "nbconvert_exporter": "python",
      "pygments_lexer": "ipython3",
      "version": "3.9.16"
    }
  },
  "nbformat": 4,
  "nbformat_minor": 0
}